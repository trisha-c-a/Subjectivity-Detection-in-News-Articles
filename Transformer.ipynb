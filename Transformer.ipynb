{
  "nbformat": 4,
  "nbformat_minor": 0,
  "metadata": {
    "colab": {
      "provenance": [],
      "gpuType": "T4"
    },
    "kernelspec": {
      "name": "python3",
      "display_name": "Python 3"
    },
    "language_info": {
      "name": "python"
    },
    "accelerator": "GPU"
  },
  "cells": [
    {
      "cell_type": "markdown",
      "source": [
        "## Imports"
      ],
      "metadata": {
        "id": "HOU_JjrWHYZR"
      }
    },
    {
      "cell_type": "code",
      "source": [
        "# !pip install torchtext==0.6.0"
      ],
      "metadata": {
        "id": "D0ZFIWMUIXYe"
      },
      "execution_count": 1,
      "outputs": []
    },
    {
      "cell_type": "code",
      "execution_count": 2,
      "metadata": {
        "id": "5_gywkRTHMjG"
      },
      "outputs": [],
      "source": [
        "import math\n",
        "import os\n",
        "import numpy as np\n",
        "from tqdm import tqdm\n",
        "import matplotlib.pyplot as plt\n",
        "import warnings\n",
        "\n",
        "import torch\n",
        "import torch.nn as nn\n",
        "import torchtext\n",
        "from torchtext.data import Field, TabularDataset\n",
        "from torchtext.vocab import Vectors\n",
        "import torch.nn.functional as F\n",
        "from torch import nn, optim\n",
        "\n",
        "warnings.filterwarnings(\"ignore\", category=UserWarning)\n",
        "device = torch.device(\"cuda\" if torch.cuda.is_available() else \"cpu\")"
      ]
    },
    {
      "cell_type": "markdown",
      "source": [
        "## Definitions"
      ],
      "metadata": {
        "id": "behXqVxf7ssA"
      }
    },
    {
      "cell_type": "code",
      "source": [
        "batch_size = 16\n",
        "max_length = 82\n",
        "vocab_size = 3097\n",
        "\n",
        "PATH = \"path\"\n",
        "train_path = os.path.join(PATH,\"train.csv\")\n",
        "val_path = os.path.join(PATH,\"val.csv\")\n",
        "test_path = os.path.join(PATH,\"test.csv\")"
      ],
      "metadata": {
        "id": "aOQ2HKfhHXp0"
      },
      "execution_count": 3,
      "outputs": []
    },
    {
      "cell_type": "markdown",
      "source": [
        "## Data Loaders"
      ],
      "metadata": {
        "id": "FxfraV0g7vTK"
      }
    },
    {
      "cell_type": "code",
      "source": [
        "TEXT = Field(sequential=True, lower=True, include_lengths=False, batch_first=True)\n",
        "LABEL = Field(sequential=False, use_vocab=False)\n",
        "\n",
        "fields = [('sentence', TEXT), ('label', LABEL)]"
      ],
      "metadata": {
        "id": "IptUdylcQRvK"
      },
      "execution_count": 4,
      "outputs": []
    },
    {
      "cell_type": "code",
      "source": [
        "train_data = TabularDataset(\n",
        "    path=train_path,\n",
        "    format=\"csv\",\n",
        "    fields=fields,\n",
        "    skip_header=True\n",
        ")\n",
        "\n",
        "val_data = TabularDataset(\n",
        "    path=val_path,\n",
        "    format=\"csv\",\n",
        "    fields=fields,\n",
        "    skip_header=True\n",
        ")\n",
        "\n",
        "test_data = TabularDataset(\n",
        "    path=test_path,\n",
        "    format=\"csv\",\n",
        "    fields=fields,\n",
        "    skip_header=True\n",
        ")"
      ],
      "metadata": {
        "id": "IF8ys1w_QYaO"
      },
      "execution_count": 5,
      "outputs": []
    },
    {
      "cell_type": "code",
      "source": [
        "glove_vectors = torchtext.vocab.GloVe(name=\"6B\", dim=50, max_vectors=50_000)"
      ],
      "metadata": {
        "colab": {
          "base_uri": "https://localhost:8080/"
        },
        "id": "219jvJS0Q5EN",
        "outputId": "96f848ed-7463-4eee-80c4-787ed76482a1"
      },
      "execution_count": 6,
      "outputs": [
        {
          "output_type": "stream",
          "name": "stderr",
          "text": [
            ".vector_cache/glove.6B.zip: 862MB [02:44, 5.23MB/s]                           \n",
            "100%|█████████▉| 49999/50000 [00:02<00:00, 20920.65it/s]\n"
          ]
        }
      ]
    },
    {
      "cell_type": "code",
      "source": [
        "TEXT.build_vocab(train_data, vectors=glove_vectors, max_size=50000)\n",
        "LABEL.build_vocab(train_data)\n",
        "\n",
        "TEXT.build_vocab(val_data, vectors=glove_vectors, max_size=50000)\n",
        "LABEL.build_vocab(val_data)\n",
        "\n",
        "TEXT.build_vocab(test_data, vectors=glove_vectors, max_size=50000)\n",
        "LABEL.build_vocab(test_data)"
      ],
      "metadata": {
        "id": "IWq6PqZjRQ7U"
      },
      "execution_count": 7,
      "outputs": []
    },
    {
      "cell_type": "code",
      "source": [
        "train_iter = torchtext.data.BucketIterator(\n",
        "    dataset=train_data,\n",
        "    batch_size=batch_size\n",
        ")\n",
        "\n",
        "val_iter = torchtext.data.BucketIterator(\n",
        "    dataset=val_data,\n",
        "    batch_size=batch_size\n",
        ")\n",
        "\n",
        "test_iter = torchtext.data.BucketIterator(\n",
        "    dataset=test_data,\n",
        "    batch_size=batch_size\n",
        ")"
      ],
      "metadata": {
        "id": "FVKM8RcdRkEv"
      },
      "execution_count": 8,
      "outputs": []
    },
    {
      "cell_type": "code",
      "source": [
        "N_train = 0\n",
        "N_val = 0\n",
        "N_test = 0\n",
        "for x,y in train_iter:\n",
        "  N_train+=len(x[0])\n",
        "for x,y in val_iter:\n",
        "    N_val+=len(x[0])\n",
        "for x,y in test_iter:\n",
        "    N_test+=len(x[0])"
      ],
      "metadata": {
        "id": "Oejhp77keC-J"
      },
      "execution_count": 9,
      "outputs": []
    },
    {
      "cell_type": "markdown",
      "source": [
        "## Model Definition"
      ],
      "metadata": {
        "id": "ODI-u_Ds7y6B"
      }
    },
    {
      "cell_type": "code",
      "source": [
        "class PositionalEncoding(nn.Module):\n",
        "    \"\"\"\n",
        "    https://pytorch.org/tutorials/beginner/transformer_tutorial.html\n",
        "    \"\"\"\n",
        "\n",
        "    def __init__(self, d_model, vocab_size=3097, dropout=0.1):\n",
        "        super().__init__()\n",
        "        self.dropout = nn.Dropout(p=dropout)\n",
        "\n",
        "        pe = torch.zeros(vocab_size, d_model)\n",
        "        position = torch.arange(0, vocab_size, dtype=torch.float).unsqueeze(1)\n",
        "        div_term = torch.exp(\n",
        "            torch.arange(0, d_model, 2).float()\n",
        "            * (-math.log(10000.0) / d_model)\n",
        "        )\n",
        "        pe[:, 0::2] = torch.sin(position * div_term)\n",
        "        pe[:, 1::2] = torch.cos(position * div_term)\n",
        "        pe = pe.unsqueeze(0)\n",
        "        self.register_buffer(\"pe\", pe)\n",
        "\n",
        "    def forward(self, x):\n",
        "        x = x + self.pe[:, : x.size(1), :]\n",
        "        return self.dropout(x)"
      ],
      "metadata": {
        "id": "NXKuu8iwKxAN"
      },
      "execution_count": 10,
      "outputs": []
    },
    {
      "cell_type": "code",
      "source": [
        "class Net(nn.Module):\n",
        "    \"\"\"\n",
        "    Text classifier based on a pytorch TransformerEncoder.\n",
        "    \"\"\"\n",
        "\n",
        "    def __init__(\n",
        "        self,\n",
        "        embeddings,\n",
        "        nhead=8,\n",
        "        dim_feedforward=2048,\n",
        "        num_layers=6,\n",
        "        dropout=0.1,\n",
        "        activation=\"relu\",\n",
        "        classifier_dropout=0.1,\n",
        "    ):\n",
        "\n",
        "        super().__init__()\n",
        "\n",
        "        vocab_size, d_model = embeddings.size()\n",
        "        assert d_model % nhead == 0, \"nheads must divide evenly into d_model\"\n",
        "\n",
        "        self.emb = nn.Embedding.from_pretrained(embeddings, freeze=False)\n",
        "\n",
        "        self.pos_encoder = PositionalEncoding(\n",
        "            d_model=d_model,\n",
        "            dropout=dropout,\n",
        "            vocab_size=vocab_size,\n",
        "        )\n",
        "\n",
        "        encoder_layer = nn.TransformerEncoderLayer(\n",
        "            d_model=d_model,\n",
        "            nhead=nhead,\n",
        "            dim_feedforward=dim_feedforward,\n",
        "            dropout=dropout,\n",
        "        )\n",
        "        self.transformer_encoder = nn.TransformerEncoder(\n",
        "            encoder_layer,\n",
        "            num_layers=num_layers,\n",
        "        )\n",
        "        self.classifier = nn.Linear(d_model, 2)\n",
        "        self.d_model = d_model\n",
        "\n",
        "    def forward(self, x):\n",
        "        x = self.emb(x) * math.sqrt(self.d_model)\n",
        "        x = self.pos_encoder(x)\n",
        "        x = self.transformer_encoder(x)\n",
        "        x = x.mean(dim=1)\n",
        "        x = self.classifier(x)\n",
        "\n",
        "        return x"
      ],
      "metadata": {
        "id": "EgUvVlNwLkwj"
      },
      "execution_count": 13,
      "outputs": []
    },
    {
      "cell_type": "code",
      "source": [
        "n_heads =2\n",
        "num_layers = 2"
      ],
      "metadata": {
        "id": "0z0ZU2US8vkW"
      },
      "execution_count": 14,
      "outputs": []
    },
    {
      "cell_type": "code",
      "source": [
        "model = Net(\n",
        "    TEXT.vocab.vectors,\n",
        "    nhead=n_heads,\n",
        "    dim_feedforward=50,\n",
        "    num_layers=num_layers,\n",
        "    dropout=0.0,\n",
        "    classifier_dropout=0.0,\n",
        ").to(device)"
      ],
      "metadata": {
        "id": "pD5kjk4C8xtE"
      },
      "execution_count": 15,
      "outputs": []
    },
    {
      "cell_type": "code",
      "source": [
        "model_parameters = filter(lambda p: p.requires_grad, model.parameters())\n",
        "params = sum([np.prod(p.size()) for p in model_parameters])\n",
        "print(f\"Number of parameters in the transformer model: {params}\")"
      ],
      "metadata": {
        "colab": {
          "base_uri": "https://localhost:8080/"
        },
        "id": "XfcsQ8st8zJV",
        "outputId": "0920d121-0c6e-4da0-bb2e-d436fcae6fb8"
      },
      "execution_count": 16,
      "outputs": [
        {
          "output_type": "stream",
          "name": "stdout",
          "text": [
            "Number of parameters in the transformer model: 73202\n"
          ]
        }
      ]
    },
    {
      "cell_type": "markdown",
      "source": [
        "## Plot Definitions"
      ],
      "metadata": {
        "id": "wkEtUwuE74L-"
      }
    },
    {
      "cell_type": "code",
      "source": [
        "def show_performance_curves(training_loss,validation_loss,training_accuracy,validation_accuracy,test_accuracy,last_epoch):\n",
        "\n",
        "    plt.figure(figsize=(5, 3))\n",
        "    plt.plot(training_loss[:last_epoch],label='Training',color='g')\n",
        "    plt.plot(validation_loss[:last_epoch],label='Validation',color='b')\n",
        "    plt.title('Training and Validation Loss')\n",
        "    plt.legend(loc='upper right')\n",
        "    plt.grid()\n",
        "    plt.xlabel(\"Epochs\")\n",
        "    plt.ylabel(\"Loss\")\n",
        "    plt.show()\n",
        "\n",
        "    print('Final Training Loss:  ',np.around(training_loss[last_epoch],6))\n",
        "    print('Final Validation Loss:',np.around(validation_loss[last_epoch],6))\n",
        "\n",
        "    plt.figure(figsize=(5, 3))\n",
        "    plt.plot(training_accuracy[:last_epoch],label='Training',color='g')\n",
        "    plt.plot(validation_accuracy[:last_epoch],label='Validation',color='b')\n",
        "    plt.title('Training and Validation Accuracy')\n",
        "    plt.legend(loc='lower right')\n",
        "    plt.grid()\n",
        "    plt.xlabel(\"Epochs\")\n",
        "    plt.ylabel(\"Accuracy\")\n",
        "    plt.show()\n",
        "\n",
        "    print('Final Training Accuracy:  ',np.around(training_accuracy[last_epoch],6))\n",
        "    print('Final Validation Accuracy:',np.around(validation_accuracy[last_epoch],6))\n",
        "    print()\n",
        "\n",
        "    print(\"Test Accuracy:\", np.around(test_accuracy.item(),4))\n",
        "\n",
        "    print()"
      ],
      "metadata": {
        "id": "GJ4unEPhcJ7G"
      },
      "execution_count": 17,
      "outputs": []
    },
    {
      "cell_type": "markdown",
      "source": [
        "## Training"
      ],
      "metadata": {
        "id": "jJYeG-RW8A-t"
      }
    },
    {
      "cell_type": "code",
      "source": [
        "epochs = 200\n",
        "lr = 1e-12\n",
        "\n",
        "best_val_score = float(\"-inf\")\n",
        "count_no_improvements = 0\n",
        "earlyStop = 80\n",
        "last_epoch = 0\n",
        "\n",
        "WEIGHTS_PATH = \"/transformer.pt\""
      ],
      "metadata": {
        "id": "CtkgEhmMcaoT"
      },
      "execution_count": 18,
      "outputs": []
    },
    {
      "cell_type": "code",
      "source": [
        "criterion = nn.BCEWithLogitsLoss()\n",
        "optimizer = optim.Adam(model.parameters(),lr=lr)\n",
        "\n",
        "torch.manual_seed(10)\n",
        "\n",
        "training_losses = np.zeros(epochs)\n",
        "val_losses      = np.zeros(epochs)\n",
        "\n",
        "training_accuracy = np.zeros(epochs)\n",
        "val_accuracy      = np.zeros(epochs)\n",
        "\n",
        "for epoch in tqdm(range(epochs)):\n",
        "    print(f\"{epoch=}\")\n",
        "    epoch_loss = 0\n",
        "    epoch_correct = 0\n",
        "    epoch_count = 0\n",
        "    for idx, batch in enumerate(iter(train_iter)):\n",
        "        predictions = model(batch.sentence.to(device))\n",
        "        labels = F.one_hot(batch.label, num_classes=2).float().to(device)\n",
        "\n",
        "        loss = criterion(predictions, labels)\n",
        "\n",
        "        correct = (torch.argmax(predictions, dim=1) == torch.argmax(labels, dim=1))\n",
        "\n",
        "        epoch_correct += correct.sum().item()\n",
        "\n",
        "        epoch_loss += loss.item()\n",
        "\n",
        "        training_losses[epoch]   = epoch_loss/N_train\n",
        "        training_accuracy[epoch] = epoch_correct/N_train\n",
        "\n",
        "        loss.backward()\n",
        "        torch.nn.utils.clip_grad_norm_(model.parameters(), 0.5)\n",
        "\n",
        "        optimizer.step()\n",
        "\n",
        "    with torch.no_grad():\n",
        "        val_epoch_loss = 0\n",
        "        val_epoch_correct = 0\n",
        "\n",
        "        for idx, batch in enumerate(iter(val_iter)):\n",
        "            predictions = model(batch.sentence.to(device))\n",
        "            labels = F.one_hot(batch.label, num_classes=2).float().to(device)\n",
        "            test_loss = criterion(predictions, labels)\n",
        "\n",
        "            correct = (torch.argmax(predictions, dim=1) == torch.argmax(labels, dim=1))\n",
        "\n",
        "            val_epoch_correct += correct.sum().item()\n",
        "            val_epoch_loss += loss.item()\n",
        "\n",
        "            val_losses[epoch]   = val_epoch_loss/N_val\n",
        "            val_accuracy[epoch] = val_epoch_correct/N_val\n",
        "        if val_accuracy[epoch]>best_val_score:\n",
        "          best_val_score = val_accuracy[epoch]\n",
        "          torch.save(model.state_dict(), WEIGHTS_PATH)\n",
        "          count_no_improvements = 0\n",
        "        else:\n",
        "          count_no_improvements+=1\n",
        "          if count_no_improvements>earlyStop:\n",
        "            last_epoch = epoch\n",
        "            break\n",
        "    print(f\"Epoch: {epoch}\")\n",
        "    print(f\"Train Loss: {training_losses[epoch]}, Train Accuracy: {training_accuracy[epoch]}\")\n",
        "    print(f\"Validation Loss: {val_losses[epoch]}, Validation Accuracy: {val_accuracy[epoch]}\")\n",
        "    last_epoch = epoch"
      ],
      "metadata": {
        "colab": {
          "base_uri": "https://localhost:8080/"
        },
        "id": "VDbFDG0aLrnf",
        "outputId": "33f7f843-f92b-4bb5-d31d-62d1a87cbb41"
      },
      "execution_count": 19,
      "outputs": [
        {
          "output_type": "stream",
          "name": "stderr",
          "text": [
            "\r  0%|          | 0/200 [00:00<?, ?it/s]"
          ]
        },
        {
          "output_type": "stream",
          "name": "stdout",
          "text": [
            "epoch=0\n"
          ]
        },
        {
          "output_type": "stream",
          "name": "stderr",
          "text": [
            "\r  0%|          | 1/200 [00:04<15:24,  4.65s/it]"
          ]
        },
        {
          "output_type": "stream",
          "name": "stdout",
          "text": [
            "Epoch: 0\n",
            "Train Loss: 0.04428647987047831, Train Accuracy: 0.604\n",
            "Validation Loss: 0.04640877631402785, Validation Accuracy: 0.6236559139784946\n",
            "epoch=1\n"
          ]
        },
        {
          "output_type": "stream",
          "name": "stderr",
          "text": [
            "\r  1%|          | 2/200 [00:05<07:09,  2.17s/it]"
          ]
        },
        {
          "output_type": "stream",
          "name": "stdout",
          "text": [
            "Epoch: 1\n",
            "Train Loss: 0.044453649759292606, Train Accuracy: 0.6146666666666667\n",
            "Validation Loss: 0.04766173901096467, Validation Accuracy: 0.6236559139784946\n",
            "epoch=2\n"
          ]
        },
        {
          "output_type": "stream",
          "name": "stderr",
          "text": [
            "\r  2%|▏         | 3/200 [00:05<04:30,  1.37s/it]"
          ]
        },
        {
          "output_type": "stream",
          "name": "stdout",
          "text": [
            "Epoch: 2\n",
            "Train Loss: 0.04417482860883077, Train Accuracy: 0.6213333333333333\n",
            "Validation Loss: 0.04508968322507797, Validation Accuracy: 0.6236559139784946\n",
            "epoch=3\n"
          ]
        },
        {
          "output_type": "stream",
          "name": "stderr",
          "text": [
            "\r  2%|▏         | 4/200 [00:05<03:16,  1.00s/it]"
          ]
        },
        {
          "output_type": "stream",
          "name": "stdout",
          "text": [
            "Epoch: 3\n",
            "Train Loss: 0.04429692665735881, Train Accuracy: 0.6093333333333333\n",
            "Validation Loss: 0.045029724797894875, Validation Accuracy: 0.6236559139784946\n",
            "epoch=4\n"
          ]
        },
        {
          "output_type": "stream",
          "name": "stderr",
          "text": [
            "\r  2%|▎         | 5/200 [00:06<02:36,  1.24it/s]"
          ]
        },
        {
          "output_type": "stream",
          "name": "stdout",
          "text": [
            "Epoch: 4\n",
            "Train Loss: 0.04438084586461385, Train Accuracy: 0.612\n",
            "Validation Loss: 0.04463110816094183, Validation Accuracy: 0.6236559139784946\n",
            "epoch=5\n"
          ]
        },
        {
          "output_type": "stream",
          "name": "stderr",
          "text": [
            "\r  3%|▎         | 6/200 [00:06<02:13,  1.46it/s]"
          ]
        },
        {
          "output_type": "stream",
          "name": "stdout",
          "text": [
            "Epoch: 5\n",
            "Train Loss: 0.044328482151031495, Train Accuracy: 0.612\n",
            "Validation Loss: 0.04509911998625724, Validation Accuracy: 0.6236559139784946\n",
            "epoch=6\n"
          ]
        },
        {
          "output_type": "stream",
          "name": "stderr",
          "text": [
            "\r  4%|▎         | 7/200 [00:07<01:56,  1.66it/s]"
          ]
        },
        {
          "output_type": "stream",
          "name": "stdout",
          "text": [
            "Epoch: 6\n",
            "Train Loss: 0.04424871142705281, Train Accuracy: 0.616\n",
            "Validation Loss: 0.047047226659713254, Validation Accuracy: 0.6236559139784946\n",
            "epoch=7\n"
          ]
        },
        {
          "output_type": "stream",
          "name": "stderr",
          "text": [
            "\r  4%|▍         | 8/200 [00:07<01:45,  1.81it/s]"
          ]
        },
        {
          "output_type": "stream",
          "name": "stdout",
          "text": [
            "Epoch: 7\n",
            "Train Loss: 0.0443190233707428, Train Accuracy: 0.612\n",
            "Validation Loss: 0.0445610438623736, Validation Accuracy: 0.6236559139784946\n",
            "epoch=8\n"
          ]
        },
        {
          "output_type": "stream",
          "name": "stderr",
          "text": [
            "\r  4%|▍         | 9/200 [00:08<01:39,  1.92it/s]"
          ]
        },
        {
          "output_type": "stream",
          "name": "stdout",
          "text": [
            "Epoch: 8\n",
            "Train Loss: 0.044437594731648766, Train Accuracy: 0.6106666666666667\n",
            "Validation Loss: 0.04559773014437768, Validation Accuracy: 0.5913978494623656\n",
            "epoch=9\n"
          ]
        },
        {
          "output_type": "stream",
          "name": "stderr",
          "text": [
            "\r  5%|▌         | 10/200 [00:08<01:33,  2.03it/s]"
          ]
        },
        {
          "output_type": "stream",
          "name": "stdout",
          "text": [
            "Epoch: 9\n",
            "Train Loss: 0.044362241903940836, Train Accuracy: 0.6106666666666667\n",
            "Validation Loss: 0.045143461996509184, Validation Accuracy: 0.6236559139784946\n",
            "epoch=10\n"
          ]
        },
        {
          "output_type": "stream",
          "name": "stderr",
          "text": [
            "\r  6%|▌         | 11/200 [00:09<01:30,  2.09it/s]"
          ]
        },
        {
          "output_type": "stream",
          "name": "stdout",
          "text": [
            "Epoch: 10\n",
            "Train Loss: 0.044202342748641966, Train Accuracy: 0.6146666666666667\n",
            "Validation Loss: 0.04857384389446628, Validation Accuracy: 0.6236559139784946\n",
            "epoch=11\n"
          ]
        },
        {
          "output_type": "stream",
          "name": "stderr",
          "text": [
            "\r  6%|▌         | 12/200 [00:09<01:30,  2.08it/s]"
          ]
        },
        {
          "output_type": "stream",
          "name": "stdout",
          "text": [
            "Epoch: 11\n",
            "Train Loss: 0.04425704344113668, Train Accuracy: 0.6186666666666667\n",
            "Validation Loss: 0.04781699565149123, Validation Accuracy: 0.6129032258064516\n",
            "epoch=12\n"
          ]
        },
        {
          "output_type": "stream",
          "name": "stderr",
          "text": [
            "\r  6%|▋         | 13/200 [00:09<01:27,  2.14it/s]"
          ]
        },
        {
          "output_type": "stream",
          "name": "stdout",
          "text": [
            "Epoch: 12\n",
            "Train Loss: 0.04428560264905294, Train Accuracy: 0.6106666666666667\n",
            "Validation Loss: 0.047475280300263434, Validation Accuracy: 0.6236559139784946\n",
            "epoch=13\n"
          ]
        },
        {
          "output_type": "stream",
          "name": "stderr",
          "text": [
            "\r  7%|▋         | 14/200 [00:10<01:27,  2.14it/s]"
          ]
        },
        {
          "output_type": "stream",
          "name": "stdout",
          "text": [
            "Epoch: 13\n",
            "Train Loss: 0.04434039974212647, Train Accuracy: 0.608\n",
            "Validation Loss: 0.04463590345075054, Validation Accuracy: 0.6236559139784946\n",
            "epoch=14\n"
          ]
        },
        {
          "output_type": "stream",
          "name": "stderr",
          "text": [
            "\r  8%|▊         | 15/200 [00:10<01:24,  2.19it/s]"
          ]
        },
        {
          "output_type": "stream",
          "name": "stdout",
          "text": [
            "Epoch: 14\n",
            "Train Loss: 0.04420139257113139, Train Accuracy: 0.6266666666666667\n",
            "Validation Loss: 0.0456501514680924, Validation Accuracy: 0.6236559139784946\n",
            "epoch=15\n"
          ]
        },
        {
          "output_type": "stream",
          "name": "stderr",
          "text": [
            "\r  8%|▊         | 16/200 [00:11<01:24,  2.19it/s]"
          ]
        },
        {
          "output_type": "stream",
          "name": "stdout",
          "text": [
            "Epoch: 15\n",
            "Train Loss: 0.044285588105519615, Train Accuracy: 0.6093333333333333\n",
            "Validation Loss: 0.04541756645325692, Validation Accuracy: 0.6236559139784946\n",
            "epoch=16\n"
          ]
        },
        {
          "output_type": "stream",
          "name": "stderr",
          "text": [
            "\r  8%|▊         | 17/200 [00:11<01:25,  2.14it/s]"
          ]
        },
        {
          "output_type": "stream",
          "name": "stdout",
          "text": [
            "Epoch: 16\n",
            "Train Loss: 0.04428818655014038, Train Accuracy: 0.6173333333333333\n",
            "Validation Loss: 0.04732020439640168, Validation Accuracy: 0.6236559139784946\n",
            "epoch=17\n"
          ]
        },
        {
          "output_type": "stream",
          "name": "stderr",
          "text": [
            "\r  9%|▉         | 18/200 [00:12<01:23,  2.19it/s]"
          ]
        },
        {
          "output_type": "stream",
          "name": "stdout",
          "text": [
            "Epoch: 17\n",
            "Train Loss: 0.04427646382649739, Train Accuracy: 0.612\n",
            "Validation Loss: 0.04667927372840143, Validation Accuracy: 0.6236559139784946\n",
            "epoch=18\n"
          ]
        },
        {
          "output_type": "stream",
          "name": "stderr",
          "text": [
            "\r 10%|▉         | 19/200 [00:12<01:20,  2.23it/s]"
          ]
        },
        {
          "output_type": "stream",
          "name": "stdout",
          "text": [
            "Epoch: 18\n",
            "Train Loss: 0.04436656753222148, Train Accuracy: 0.612\n",
            "Validation Loss: 0.04743945214056199, Validation Accuracy: 0.6236559139784946\n",
            "epoch=19\n"
          ]
        },
        {
          "output_type": "stream",
          "name": "stderr",
          "text": [
            "\r 10%|█         | 20/200 [00:13<01:22,  2.17it/s]"
          ]
        },
        {
          "output_type": "stream",
          "name": "stdout",
          "text": [
            "Epoch: 19\n",
            "Train Loss: 0.04423825248082479, Train Accuracy: 0.6186666666666667\n",
            "Validation Loss: 0.04376395671598373, Validation Accuracy: 0.6236559139784946\n",
            "epoch=20\n"
          ]
        },
        {
          "output_type": "stream",
          "name": "stderr",
          "text": [
            "\r 10%|█         | 21/200 [00:13<01:21,  2.19it/s]"
          ]
        },
        {
          "output_type": "stream",
          "name": "stdout",
          "text": [
            "Epoch: 20\n",
            "Train Loss: 0.044272974729537964, Train Accuracy: 0.6106666666666667\n",
            "Validation Loss: 0.04609168729474468, Validation Accuracy: 0.6236559139784946\n",
            "epoch=21\n"
          ]
        },
        {
          "output_type": "stream",
          "name": "stderr",
          "text": [
            "\r 11%|█         | 22/200 [00:14<01:21,  2.18it/s]"
          ]
        },
        {
          "output_type": "stream",
          "name": "stdout",
          "text": [
            "Epoch: 21\n",
            "Train Loss: 0.044299424250920615, Train Accuracy: 0.6173333333333333\n",
            "Validation Loss: 0.04489238800541047, Validation Accuracy: 0.6236559139784946\n",
            "epoch=22\n"
          ]
        },
        {
          "output_type": "stream",
          "name": "stderr",
          "text": [
            "\r 12%|█▏        | 23/200 [00:14<01:20,  2.20it/s]"
          ]
        },
        {
          "output_type": "stream",
          "name": "stdout",
          "text": [
            "Epoch: 22\n",
            "Train Loss: 0.044341633160909014, Train Accuracy: 0.6066666666666667\n",
            "Validation Loss: 0.044325097914664977, Validation Accuracy: 0.6021505376344086\n",
            "epoch=23\n"
          ]
        },
        {
          "output_type": "stream",
          "name": "stderr",
          "text": [
            "\r 12%|█▏        | 24/200 [00:14<01:19,  2.21it/s]"
          ]
        },
        {
          "output_type": "stream",
          "name": "stdout",
          "text": [
            "Epoch: 23\n",
            "Train Loss: 0.044284364302953086, Train Accuracy: 0.6186666666666667\n",
            "Validation Loss: 0.043968269901890907, Validation Accuracy: 0.6236559139784946\n",
            "epoch=24\n"
          ]
        },
        {
          "output_type": "stream",
          "name": "stderr",
          "text": [
            "\r 12%|█▎        | 25/200 [00:15<01:20,  2.18it/s]"
          ]
        },
        {
          "output_type": "stream",
          "name": "stdout",
          "text": [
            "Epoch: 24\n",
            "Train Loss: 0.04418475532531738, Train Accuracy: 0.6186666666666667\n",
            "Validation Loss: 0.04598332220508206, Validation Accuracy: 0.6236559139784946\n",
            "epoch=25\n"
          ]
        },
        {
          "output_type": "stream",
          "name": "stderr",
          "text": [
            "\r 13%|█▎        | 26/200 [00:15<01:20,  2.15it/s]"
          ]
        },
        {
          "output_type": "stream",
          "name": "stdout",
          "text": [
            "Epoch: 25\n",
            "Train Loss: 0.04425391459465027, Train Accuracy: 0.6173333333333333\n",
            "Validation Loss: 0.04497755727460308, Validation Accuracy: 0.6236559139784946\n",
            "epoch=26\n"
          ]
        },
        {
          "output_type": "stream",
          "name": "stderr",
          "text": [
            "\r 14%|█▎        | 27/200 [00:16<01:20,  2.15it/s]"
          ]
        },
        {
          "output_type": "stream",
          "name": "stdout",
          "text": [
            "Epoch: 26\n",
            "Train Loss: 0.044311285257339475, Train Accuracy: 0.612\n",
            "Validation Loss: 0.045042084109398625, Validation Accuracy: 0.6236559139784946\n",
            "epoch=27\n"
          ]
        },
        {
          "output_type": "stream",
          "name": "stderr",
          "text": [
            "\r 14%|█▍        | 28/200 [00:16<01:18,  2.19it/s]"
          ]
        },
        {
          "output_type": "stream",
          "name": "stdout",
          "text": [
            "Epoch: 27\n",
            "Train Loss: 0.04417174371083577, Train Accuracy: 0.6186666666666667\n",
            "Validation Loss: 0.04602720660548056, Validation Accuracy: 0.6236559139784946\n",
            "epoch=28\n"
          ]
        },
        {
          "output_type": "stream",
          "name": "stderr",
          "text": [
            "\r 14%|█▍        | 29/200 [00:17<01:17,  2.22it/s]"
          ]
        },
        {
          "output_type": "stream",
          "name": "stdout",
          "text": [
            "Epoch: 28\n",
            "Train Loss: 0.04415575432777405, Train Accuracy: 0.608\n",
            "Validation Loss: 0.043241024017333984, Validation Accuracy: 0.6129032258064516\n",
            "epoch=29\n"
          ]
        },
        {
          "output_type": "stream",
          "name": "stderr",
          "text": [
            "\r 15%|█▌        | 30/200 [00:17<01:15,  2.26it/s]"
          ]
        },
        {
          "output_type": "stream",
          "name": "stdout",
          "text": [
            "Epoch: 29\n",
            "Train Loss: 0.04427818767229716, Train Accuracy: 0.608\n",
            "Validation Loss: 0.04527892604950936, Validation Accuracy: 0.6236559139784946\n",
            "epoch=30\n"
          ]
        },
        {
          "output_type": "stream",
          "name": "stderr",
          "text": [
            "\r 16%|█▌        | 31/200 [00:18<01:18,  2.16it/s]"
          ]
        },
        {
          "output_type": "stream",
          "name": "stdout",
          "text": [
            "Epoch: 30\n",
            "Train Loss: 0.04423784192403157, Train Accuracy: 0.6213333333333333\n",
            "Validation Loss: 0.04524532441169985, Validation Accuracy: 0.6236559139784946\n",
            "epoch=31\n"
          ]
        },
        {
          "output_type": "stream",
          "name": "stderr",
          "text": [
            "\r 16%|█▌        | 32/200 [00:18<01:18,  2.13it/s]"
          ]
        },
        {
          "output_type": "stream",
          "name": "stdout",
          "text": [
            "Epoch: 31\n",
            "Train Loss: 0.04423321517308553, Train Accuracy: 0.6173333333333333\n",
            "Validation Loss: 0.04647943281358288, Validation Accuracy: 0.6129032258064516\n",
            "epoch=32\n"
          ]
        },
        {
          "output_type": "stream",
          "name": "stderr",
          "text": [
            "\r 16%|█▋        | 33/200 [00:19<01:19,  2.10it/s]"
          ]
        },
        {
          "output_type": "stream",
          "name": "stdout",
          "text": [
            "Epoch: 32\n",
            "Train Loss: 0.044174808502197266, Train Accuracy: 0.6213333333333333\n",
            "Validation Loss: 0.04738420440304664, Validation Accuracy: 0.6236559139784946\n",
            "epoch=33\n"
          ]
        },
        {
          "output_type": "stream",
          "name": "stderr",
          "text": [
            "\r 17%|█▋        | 34/200 [00:19<01:18,  2.12it/s]"
          ]
        },
        {
          "output_type": "stream",
          "name": "stdout",
          "text": [
            "Epoch: 33\n",
            "Train Loss: 0.04422989050547282, Train Accuracy: 0.6186666666666667\n",
            "Validation Loss: 0.0423258658378355, Validation Accuracy: 0.6236559139784946\n",
            "epoch=34\n"
          ]
        },
        {
          "output_type": "stream",
          "name": "stderr",
          "text": [
            "\r 18%|█▊        | 35/200 [00:20<01:15,  2.18it/s]"
          ]
        },
        {
          "output_type": "stream",
          "name": "stdout",
          "text": [
            "Epoch: 34\n",
            "Train Loss: 0.04415931455294291, Train Accuracy: 0.612\n",
            "Validation Loss: 0.04496450578012774, Validation Accuracy: 0.6236559139784946\n",
            "epoch=35\n"
          ]
        },
        {
          "output_type": "stream",
          "name": "stderr",
          "text": [
            "\r 18%|█▊        | 36/200 [00:20<01:07,  2.42it/s]"
          ]
        },
        {
          "output_type": "stream",
          "name": "stdout",
          "text": [
            "Epoch: 35\n",
            "Train Loss: 0.04427424661318461, Train Accuracy: 0.612\n",
            "Validation Loss: 0.04488052860383065, Validation Accuracy: 0.6344086021505376\n",
            "epoch=36\n"
          ]
        },
        {
          "output_type": "stream",
          "name": "stderr",
          "text": [
            "\r 18%|█▊        | 37/200 [00:20<01:01,  2.67it/s]"
          ]
        },
        {
          "output_type": "stream",
          "name": "stdout",
          "text": [
            "Epoch: 36\n",
            "Train Loss: 0.0442653017838796, Train Accuracy: 0.6093333333333333\n",
            "Validation Loss: 0.04597443149935815, Validation Accuracy: 0.6236559139784946\n",
            "epoch=37\n"
          ]
        },
        {
          "output_type": "stream",
          "name": "stderr",
          "text": [
            "\r 19%|█▉        | 38/200 [00:20<00:56,  2.86it/s]"
          ]
        },
        {
          "output_type": "stream",
          "name": "stdout",
          "text": [
            "Epoch: 37\n",
            "Train Loss: 0.044228466431299844, Train Accuracy: 0.616\n",
            "Validation Loss: 0.047347853260655555, Validation Accuracy: 0.6236559139784946\n",
            "epoch=38\n"
          ]
        },
        {
          "output_type": "stream",
          "name": "stderr",
          "text": [
            "\r 20%|█▉        | 39/200 [00:21<00:53,  3.02it/s]"
          ]
        },
        {
          "output_type": "stream",
          "name": "stdout",
          "text": [
            "Epoch: 38\n",
            "Train Loss: 0.04427499945958455, Train Accuracy: 0.6133333333333333\n",
            "Validation Loss: 0.04494715121484572, Validation Accuracy: 0.6236559139784946\n",
            "epoch=39\n"
          ]
        },
        {
          "output_type": "stream",
          "name": "stderr",
          "text": [
            "\r 20%|██        | 40/200 [00:21<00:50,  3.15it/s]"
          ]
        },
        {
          "output_type": "stream",
          "name": "stdout",
          "text": [
            "Epoch: 39\n",
            "Train Loss: 0.04418211038907369, Train Accuracy: 0.616\n",
            "Validation Loss: 0.044674665697159305, Validation Accuracy: 0.6344086021505376\n",
            "epoch=40\n"
          ]
        },
        {
          "output_type": "stream",
          "name": "stderr",
          "text": [
            "\r 20%|██        | 41/200 [00:21<00:49,  3.22it/s]"
          ]
        },
        {
          "output_type": "stream",
          "name": "stdout",
          "text": [
            "Epoch: 40\n",
            "Train Loss: 0.04441261736551921, Train Accuracy: 0.62\n",
            "Validation Loss: 0.044840597337292086, Validation Accuracy: 0.6236559139784946\n",
            "epoch=41\n"
          ]
        },
        {
          "output_type": "stream",
          "name": "stderr",
          "text": [
            "\r 21%|██        | 42/200 [00:22<00:48,  3.27it/s]"
          ]
        },
        {
          "output_type": "stream",
          "name": "stdout",
          "text": [
            "Epoch: 41\n",
            "Train Loss: 0.04422571881612142, Train Accuracy: 0.6213333333333333\n",
            "Validation Loss: 0.04491490702475271, Validation Accuracy: 0.6236559139784946\n",
            "epoch=42\n"
          ]
        },
        {
          "output_type": "stream",
          "name": "stderr",
          "text": [
            "\r 22%|██▏       | 43/200 [00:22<00:47,  3.32it/s]"
          ]
        },
        {
          "output_type": "stream",
          "name": "stdout",
          "text": [
            "Epoch: 42\n",
            "Train Loss: 0.04433488965034485, Train Accuracy: 0.616\n",
            "Validation Loss: 0.045964917828959805, Validation Accuracy: 0.6344086021505376\n",
            "epoch=43\n"
          ]
        },
        {
          "output_type": "stream",
          "name": "stderr",
          "text": [
            "\r 22%|██▏       | 44/200 [00:22<00:46,  3.33it/s]"
          ]
        },
        {
          "output_type": "stream",
          "name": "stdout",
          "text": [
            "Epoch: 43\n",
            "Train Loss: 0.04423600236574809, Train Accuracy: 0.616\n",
            "Validation Loss: 0.04570344186598255, Validation Accuracy: 0.6236559139784946\n",
            "epoch=44\n"
          ]
        },
        {
          "output_type": "stream",
          "name": "stderr",
          "text": [
            "\r 22%|██▎       | 45/200 [00:22<00:46,  3.36it/s]"
          ]
        },
        {
          "output_type": "stream",
          "name": "stdout",
          "text": [
            "Epoch: 44\n",
            "Train Loss: 0.04423424887657165, Train Accuracy: 0.6106666666666667\n",
            "Validation Loss: 0.0424284242814587, Validation Accuracy: 0.6236559139784946\n",
            "epoch=45\n"
          ]
        },
        {
          "output_type": "stream",
          "name": "stderr",
          "text": [
            "\r 23%|██▎       | 46/200 [00:23<00:45,  3.36it/s]"
          ]
        },
        {
          "output_type": "stream",
          "name": "stdout",
          "text": [
            "Epoch: 45\n",
            "Train Loss: 0.044420459747314456, Train Accuracy: 0.616\n",
            "Validation Loss: 0.04552703134475216, Validation Accuracy: 0.6236559139784946\n",
            "epoch=46\n"
          ]
        },
        {
          "output_type": "stream",
          "name": "stderr",
          "text": [
            "\r 24%|██▎       | 47/200 [00:23<00:44,  3.40it/s]"
          ]
        },
        {
          "output_type": "stream",
          "name": "stdout",
          "text": [
            "Epoch: 46\n",
            "Train Loss: 0.04425420967737834, Train Accuracy: 0.616\n",
            "Validation Loss: 0.04523137692482241, Validation Accuracy: 0.6236559139784946\n",
            "epoch=47\n"
          ]
        },
        {
          "output_type": "stream",
          "name": "stderr",
          "text": [
            "\r 24%|██▍       | 48/200 [00:23<00:44,  3.42it/s]"
          ]
        },
        {
          "output_type": "stream",
          "name": "stdout",
          "text": [
            "Epoch: 47\n",
            "Train Loss: 0.04431812922159831, Train Accuracy: 0.604\n",
            "Validation Loss: 0.04637554768593081, Validation Accuracy: 0.6236559139784946\n",
            "epoch=48\n"
          ]
        },
        {
          "output_type": "stream",
          "name": "stderr",
          "text": [
            "\r 24%|██▍       | 49/200 [00:24<00:43,  3.45it/s]"
          ]
        },
        {
          "output_type": "stream",
          "name": "stdout",
          "text": [
            "Epoch: 48\n",
            "Train Loss: 0.04430495564142863, Train Accuracy: 0.6186666666666667\n",
            "Validation Loss: 0.04519625632993637, Validation Accuracy: 0.5913978494623656\n",
            "epoch=49\n"
          ]
        },
        {
          "output_type": "stream",
          "name": "stderr",
          "text": [
            "\r 25%|██▌       | 50/200 [00:24<00:43,  3.47it/s]"
          ]
        },
        {
          "output_type": "stream",
          "name": "stdout",
          "text": [
            "Epoch: 49\n",
            "Train Loss: 0.044269736369450884, Train Accuracy: 0.6146666666666667\n",
            "Validation Loss: 0.044741315226401054, Validation Accuracy: 0.6236559139784946\n",
            "epoch=50\n"
          ]
        },
        {
          "output_type": "stream",
          "name": "stderr",
          "text": [
            "\r 26%|██▌       | 51/200 [00:24<00:42,  3.48it/s]"
          ]
        },
        {
          "output_type": "stream",
          "name": "stdout",
          "text": [
            "Epoch: 50\n",
            "Train Loss: 0.04424269429842631, Train Accuracy: 0.62\n",
            "Validation Loss: 0.04531525796459567, Validation Accuracy: 0.6236559139784946\n",
            "epoch=51\n"
          ]
        },
        {
          "output_type": "stream",
          "name": "stderr",
          "text": [
            "\r 26%|██▌       | 52/200 [00:25<00:42,  3.45it/s]"
          ]
        },
        {
          "output_type": "stream",
          "name": "stdout",
          "text": [
            "Epoch: 51\n",
            "Train Loss: 0.04426809565226237, Train Accuracy: 0.6173333333333333\n",
            "Validation Loss: 0.04548939581840269, Validation Accuracy: 0.6236559139784946\n",
            "epoch=52\n"
          ]
        },
        {
          "output_type": "stream",
          "name": "stderr",
          "text": [
            "\r 26%|██▋       | 53/200 [00:25<00:42,  3.50it/s]"
          ]
        },
        {
          "output_type": "stream",
          "name": "stdout",
          "text": [
            "Epoch: 52\n",
            "Train Loss: 0.04428560177485148, Train Accuracy: 0.62\n",
            "Validation Loss: 0.04496146402051372, Validation Accuracy: 0.6129032258064516\n",
            "epoch=53\n"
          ]
        },
        {
          "output_type": "stream",
          "name": "stderr",
          "text": [
            "\r 27%|██▋       | 54/200 [00:25<00:41,  3.53it/s]"
          ]
        },
        {
          "output_type": "stream",
          "name": "stdout",
          "text": [
            "Epoch: 53\n",
            "Train Loss: 0.04428073024749756, Train Accuracy: 0.6106666666666667\n",
            "Validation Loss: 0.04432659764443674, Validation Accuracy: 0.6236559139784946\n",
            "epoch=54\n"
          ]
        },
        {
          "output_type": "stream",
          "name": "stderr",
          "text": [
            "\r 28%|██▊       | 55/200 [00:25<00:41,  3.50it/s]"
          ]
        },
        {
          "output_type": "stream",
          "name": "stdout",
          "text": [
            "Epoch: 54\n",
            "Train Loss: 0.04428982822100321, Train Accuracy: 0.608\n",
            "Validation Loss: 0.04655618821420977, Validation Accuracy: 0.6236559139784946\n",
            "epoch=55\n"
          ]
        },
        {
          "output_type": "stream",
          "name": "stderr",
          "text": [
            "\r 28%|██▊       | 56/200 [00:26<00:40,  3.55it/s]"
          ]
        },
        {
          "output_type": "stream",
          "name": "stdout",
          "text": [
            "Epoch: 55\n",
            "Train Loss: 0.04435606813430786, Train Accuracy: 0.6133333333333333\n",
            "Validation Loss: 0.04456466628659156, Validation Accuracy: 0.6236559139784946\n",
            "epoch=56\n"
          ]
        },
        {
          "output_type": "stream",
          "name": "stderr",
          "text": [
            "\r 28%|██▊       | 57/200 [00:26<00:40,  3.56it/s]"
          ]
        },
        {
          "output_type": "stream",
          "name": "stdout",
          "text": [
            "Epoch: 56\n",
            "Train Loss: 0.04416644525527954, Train Accuracy: 0.6066666666666667\n",
            "Validation Loss: 0.04625120086054648, Validation Accuracy: 0.6236559139784946\n",
            "epoch=57\n"
          ]
        },
        {
          "output_type": "stream",
          "name": "stderr",
          "text": [
            "\r 29%|██▉       | 58/200 [00:26<00:39,  3.57it/s]"
          ]
        },
        {
          "output_type": "stream",
          "name": "stdout",
          "text": [
            "Epoch: 57\n",
            "Train Loss: 0.04433245086669922, Train Accuracy: 0.604\n",
            "Validation Loss: 0.04571317857311618, Validation Accuracy: 0.6236559139784946\n",
            "epoch=58\n"
          ]
        },
        {
          "output_type": "stream",
          "name": "stderr",
          "text": [
            "\r 30%|██▉       | 59/200 [00:26<00:39,  3.55it/s]"
          ]
        },
        {
          "output_type": "stream",
          "name": "stdout",
          "text": [
            "Epoch: 58\n",
            "Train Loss: 0.04430542405446371, Train Accuracy: 0.612\n",
            "Validation Loss: 0.04582929226659959, Validation Accuracy: 0.6236559139784946\n",
            "epoch=59\n"
          ]
        },
        {
          "output_type": "stream",
          "name": "stderr",
          "text": [
            "\r 30%|███       | 60/200 [00:27<00:39,  3.57it/s]"
          ]
        },
        {
          "output_type": "stream",
          "name": "stdout",
          "text": [
            "Epoch: 59\n",
            "Train Loss: 0.04441157563527425, Train Accuracy: 0.6053333333333333\n",
            "Validation Loss: 0.04629179739182995, Validation Accuracy: 0.6236559139784946\n",
            "epoch=60\n"
          ]
        },
        {
          "output_type": "stream",
          "name": "stderr",
          "text": [
            "\r 30%|███       | 61/200 [00:27<00:39,  3.54it/s]"
          ]
        },
        {
          "output_type": "stream",
          "name": "stdout",
          "text": [
            "Epoch: 60\n",
            "Train Loss: 0.0442558175722758, Train Accuracy: 0.6066666666666667\n",
            "Validation Loss: 0.04512186204233477, Validation Accuracy: 0.6236559139784946\n",
            "epoch=61\n"
          ]
        },
        {
          "output_type": "stream",
          "name": "stderr",
          "text": [
            "\r 31%|███       | 62/200 [00:27<00:38,  3.56it/s]"
          ]
        },
        {
          "output_type": "stream",
          "name": "stdout",
          "text": [
            "Epoch: 61\n",
            "Train Loss: 0.04421814854939778, Train Accuracy: 0.6106666666666667\n",
            "Validation Loss: 0.04427255738166071, Validation Accuracy: 0.6236559139784946\n",
            "epoch=62\n"
          ]
        },
        {
          "output_type": "stream",
          "name": "stderr",
          "text": [
            "\r 32%|███▏      | 63/200 [00:28<00:38,  3.54it/s]"
          ]
        },
        {
          "output_type": "stream",
          "name": "stdout",
          "text": [
            "Epoch: 62\n",
            "Train Loss: 0.04426783633232117, Train Accuracy: 0.6106666666666667\n",
            "Validation Loss: 0.04586967345206968, Validation Accuracy: 0.6236559139784946\n",
            "epoch=63\n"
          ]
        },
        {
          "output_type": "stream",
          "name": "stderr",
          "text": [
            "\r 32%|███▏      | 64/200 [00:28<00:38,  3.53it/s]"
          ]
        },
        {
          "output_type": "stream",
          "name": "stdout",
          "text": [
            "Epoch: 63\n",
            "Train Loss: 0.04421501080195109, Train Accuracy: 0.6066666666666667\n",
            "Validation Loss: 0.04407361630470522, Validation Accuracy: 0.6236559139784946\n",
            "epoch=64\n"
          ]
        },
        {
          "output_type": "stream",
          "name": "stderr",
          "text": [
            "\r 32%|███▎      | 65/200 [00:28<00:38,  3.54it/s]"
          ]
        },
        {
          "output_type": "stream",
          "name": "stdout",
          "text": [
            "Epoch: 64\n",
            "Train Loss: 0.04422314929962158, Train Accuracy: 0.608\n",
            "Validation Loss: 0.045216591127457156, Validation Accuracy: 0.6236559139784946\n",
            "epoch=65\n"
          ]
        },
        {
          "output_type": "stream",
          "name": "stderr",
          "text": [
            "\r 33%|███▎      | 66/200 [00:28<00:39,  3.41it/s]"
          ]
        },
        {
          "output_type": "stream",
          "name": "stdout",
          "text": [
            "Epoch: 65\n",
            "Train Loss: 0.04430068310101827, Train Accuracy: 0.6213333333333333\n",
            "Validation Loss: 0.04586809681307885, Validation Accuracy: 0.6236559139784946\n",
            "epoch=66\n"
          ]
        },
        {
          "output_type": "stream",
          "name": "stderr",
          "text": [
            "\r 34%|███▎      | 67/200 [00:29<00:39,  3.37it/s]"
          ]
        },
        {
          "output_type": "stream",
          "name": "stdout",
          "text": [
            "Epoch: 66\n",
            "Train Loss: 0.04420917320251465, Train Accuracy: 0.6066666666666667\n",
            "Validation Loss: 0.04701713208229311, Validation Accuracy: 0.6236559139784946\n",
            "epoch=67\n"
          ]
        },
        {
          "output_type": "stream",
          "name": "stderr",
          "text": [
            "\r 34%|███▍      | 68/200 [00:29<00:38,  3.40it/s]"
          ]
        },
        {
          "output_type": "stream",
          "name": "stdout",
          "text": [
            "Epoch: 67\n",
            "Train Loss: 0.04432085418701172, Train Accuracy: 0.6146666666666667\n",
            "Validation Loss: 0.04533059750833819, Validation Accuracy: 0.6129032258064516\n",
            "epoch=68\n"
          ]
        },
        {
          "output_type": "stream",
          "name": "stderr",
          "text": [
            "\r 34%|███▍      | 69/200 [00:29<00:40,  3.23it/s]"
          ]
        },
        {
          "output_type": "stream",
          "name": "stdout",
          "text": [
            "Epoch: 68\n",
            "Train Loss: 0.04436281458536784, Train Accuracy: 0.6186666666666667\n",
            "Validation Loss: 0.045033770222817696, Validation Accuracy: 0.6236559139784946\n",
            "epoch=69\n"
          ]
        },
        {
          "output_type": "stream",
          "name": "stderr",
          "text": [
            "\r 35%|███▌      | 70/200 [00:30<00:44,  2.92it/s]"
          ]
        },
        {
          "output_type": "stream",
          "name": "stdout",
          "text": [
            "Epoch: 69\n",
            "Train Loss: 0.0442827935218811, Train Accuracy: 0.6133333333333333\n",
            "Validation Loss: 0.04526481320781092, Validation Accuracy: 0.6236559139784946\n",
            "epoch=70\n"
          ]
        },
        {
          "output_type": "stream",
          "name": "stderr",
          "text": [
            "\r 36%|███▌      | 71/200 [00:30<00:46,  2.78it/s]"
          ]
        },
        {
          "output_type": "stream",
          "name": "stdout",
          "text": [
            "Epoch: 70\n",
            "Train Loss: 0.04424205946922302, Train Accuracy: 0.6186666666666667\n",
            "Validation Loss: 0.04568346854179136, Validation Accuracy: 0.6236559139784946\n",
            "epoch=71\n"
          ]
        },
        {
          "output_type": "stream",
          "name": "stderr",
          "text": [
            "\r 36%|███▌      | 72/200 [00:31<00:47,  2.68it/s]"
          ]
        },
        {
          "output_type": "stream",
          "name": "stdout",
          "text": [
            "Epoch: 71\n",
            "Train Loss: 0.04434158937136332, Train Accuracy: 0.6093333333333333\n",
            "Validation Loss: 0.04541297112741778, Validation Accuracy: 0.6236559139784946\n",
            "epoch=72\n"
          ]
        },
        {
          "output_type": "stream",
          "name": "stderr",
          "text": [
            "\r 36%|███▋      | 73/200 [00:31<00:48,  2.61it/s]"
          ]
        },
        {
          "output_type": "stream",
          "name": "stdout",
          "text": [
            "Epoch: 72\n",
            "Train Loss: 0.04432582783699036, Train Accuracy: 0.6106666666666667\n",
            "Validation Loss: 0.04622239451254568, Validation Accuracy: 0.6129032258064516\n",
            "epoch=73\n"
          ]
        },
        {
          "output_type": "stream",
          "name": "stderr",
          "text": [
            "\r 37%|███▋      | 74/200 [00:31<00:48,  2.57it/s]"
          ]
        },
        {
          "output_type": "stream",
          "name": "stdout",
          "text": [
            "Epoch: 73\n",
            "Train Loss: 0.04433637841542562, Train Accuracy: 0.6106666666666667\n",
            "Validation Loss: 0.04501601957505749, Validation Accuracy: 0.6129032258064516\n",
            "epoch=74\n"
          ]
        },
        {
          "output_type": "stream",
          "name": "stderr",
          "text": [
            "\r 38%|███▊      | 75/200 [00:32<00:49,  2.52it/s]"
          ]
        },
        {
          "output_type": "stream",
          "name": "stdout",
          "text": [
            "Epoch: 74\n",
            "Train Loss: 0.04426161662737529, Train Accuracy: 0.612\n",
            "Validation Loss: 0.04560422897338867, Validation Accuracy: 0.6129032258064516\n",
            "epoch=75\n"
          ]
        },
        {
          "output_type": "stream",
          "name": "stderr",
          "text": [
            "\r 38%|███▊      | 76/200 [00:32<00:49,  2.51it/s]"
          ]
        },
        {
          "output_type": "stream",
          "name": "stdout",
          "text": [
            "Epoch: 75\n",
            "Train Loss: 0.04437571859359741, Train Accuracy: 0.6186666666666667\n",
            "Validation Loss: 0.04445514755864297, Validation Accuracy: 0.6129032258064516\n",
            "epoch=76\n"
          ]
        },
        {
          "output_type": "stream",
          "name": "stderr",
          "text": [
            "\r 38%|███▊      | 77/200 [00:33<00:49,  2.51it/s]"
          ]
        },
        {
          "output_type": "stream",
          "name": "stdout",
          "text": [
            "Epoch: 76\n",
            "Train Loss: 0.0442536826133728, Train Accuracy: 0.62\n",
            "Validation Loss: 0.04483336017977807, Validation Accuracy: 0.6236559139784946\n",
            "epoch=77\n"
          ]
        },
        {
          "output_type": "stream",
          "name": "stderr",
          "text": [
            "\r 39%|███▉      | 78/200 [00:33<00:48,  2.53it/s]"
          ]
        },
        {
          "output_type": "stream",
          "name": "stdout",
          "text": [
            "Epoch: 77\n",
            "Train Loss: 0.04424215229352315, Train Accuracy: 0.616\n",
            "Validation Loss: 0.0471377142014042, Validation Accuracy: 0.6236559139784946\n",
            "epoch=78\n"
          ]
        },
        {
          "output_type": "stream",
          "name": "stderr",
          "text": [
            "\r 40%|███▉      | 79/200 [00:33<00:48,  2.51it/s]"
          ]
        },
        {
          "output_type": "stream",
          "name": "stdout",
          "text": [
            "Epoch: 78\n",
            "Train Loss: 0.04420140687624614, Train Accuracy: 0.612\n",
            "Validation Loss: 0.04648201311788251, Validation Accuracy: 0.6129032258064516\n",
            "epoch=79\n"
          ]
        },
        {
          "output_type": "stream",
          "name": "stderr",
          "text": [
            "\r 40%|████      | 80/200 [00:34<00:47,  2.52it/s]"
          ]
        },
        {
          "output_type": "stream",
          "name": "stdout",
          "text": [
            "Epoch: 79\n",
            "Train Loss: 0.044260066668192544, Train Accuracy: 0.6066666666666667\n",
            "Validation Loss: 0.04466177571204401, Validation Accuracy: 0.6236559139784946\n",
            "epoch=80\n"
          ]
        },
        {
          "output_type": "stream",
          "name": "stderr",
          "text": [
            "\r 40%|████      | 81/200 [00:34<00:46,  2.54it/s]"
          ]
        },
        {
          "output_type": "stream",
          "name": "stdout",
          "text": [
            "Epoch: 80\n",
            "Train Loss: 0.044331232229868574, Train Accuracy: 0.6173333333333333\n",
            "Validation Loss: 0.04548586953070856, Validation Accuracy: 0.6236559139784946\n",
            "epoch=81\n"
          ]
        },
        {
          "output_type": "stream",
          "name": "stderr",
          "text": [
            "\r 41%|████      | 82/200 [00:35<00:47,  2.50it/s]"
          ]
        },
        {
          "output_type": "stream",
          "name": "stdout",
          "text": [
            "Epoch: 81\n",
            "Train Loss: 0.044230960210164386, Train Accuracy: 0.6133333333333333\n",
            "Validation Loss: 0.04643297579980666, Validation Accuracy: 0.6236559139784946\n",
            "epoch=82\n"
          ]
        },
        {
          "output_type": "stream",
          "name": "stderr",
          "text": [
            "\r 42%|████▏     | 83/200 [00:35<00:44,  2.62it/s]"
          ]
        },
        {
          "output_type": "stream",
          "name": "stdout",
          "text": [
            "Epoch: 82\n",
            "Train Loss: 0.04434324185053507, Train Accuracy: 0.616\n",
            "Validation Loss: 0.046040688791582664, Validation Accuracy: 0.6236559139784946\n",
            "epoch=83\n"
          ]
        },
        {
          "output_type": "stream",
          "name": "stderr",
          "text": [
            "\r 42%|████▏     | 84/200 [00:35<00:40,  2.85it/s]"
          ]
        },
        {
          "output_type": "stream",
          "name": "stdout",
          "text": [
            "Epoch: 83\n",
            "Train Loss: 0.04431919550895691, Train Accuracy: 0.62\n",
            "Validation Loss: 0.04474577980656778, Validation Accuracy: 0.6236559139784946\n",
            "epoch=84\n"
          ]
        },
        {
          "output_type": "stream",
          "name": "stderr",
          "text": [
            "\r 42%|████▎     | 85/200 [00:36<00:38,  3.01it/s]"
          ]
        },
        {
          "output_type": "stream",
          "name": "stdout",
          "text": [
            "Epoch: 84\n",
            "Train Loss: 0.04435025715827942, Train Accuracy: 0.6093333333333333\n",
            "Validation Loss: 0.04503237047503071, Validation Accuracy: 0.6236559139784946\n",
            "epoch=85\n"
          ]
        },
        {
          "output_type": "stream",
          "name": "stderr",
          "text": [
            "\r 43%|████▎     | 86/200 [00:36<00:36,  3.10it/s]"
          ]
        },
        {
          "output_type": "stream",
          "name": "stdout",
          "text": [
            "Epoch: 85\n",
            "Train Loss: 0.04422249015172323, Train Accuracy: 0.6213333333333333\n",
            "Validation Loss: 0.046410983608615015, Validation Accuracy: 0.6236559139784946\n",
            "epoch=86\n"
          ]
        },
        {
          "output_type": "stream",
          "name": "stderr",
          "text": [
            "\r 44%|████▎     | 87/200 [00:36<00:35,  3.19it/s]"
          ]
        },
        {
          "output_type": "stream",
          "name": "stdout",
          "text": [
            "Epoch: 86\n",
            "Train Loss: 0.044156458616256715, Train Accuracy: 0.6253333333333333\n",
            "Validation Loss: 0.04543348281614242, Validation Accuracy: 0.6236559139784946\n",
            "epoch=87\n"
          ]
        },
        {
          "output_type": "stream",
          "name": "stderr",
          "text": [
            "\r 44%|████▍     | 88/200 [00:36<00:34,  3.28it/s]"
          ]
        },
        {
          "output_type": "stream",
          "name": "stdout",
          "text": [
            "Epoch: 87\n",
            "Train Loss: 0.04439463559786479, Train Accuracy: 0.6186666666666667\n",
            "Validation Loss: 0.04633973490807318, Validation Accuracy: 0.6236559139784946\n",
            "epoch=88\n"
          ]
        },
        {
          "output_type": "stream",
          "name": "stderr",
          "text": [
            "\r 44%|████▍     | 89/200 [00:37<00:33,  3.35it/s]"
          ]
        },
        {
          "output_type": "stream",
          "name": "stdout",
          "text": [
            "Epoch: 88\n",
            "Train Loss: 0.04438642406463623, Train Accuracy: 0.6093333333333333\n",
            "Validation Loss: 0.04525438431770571, Validation Accuracy: 0.6236559139784946\n",
            "epoch=89\n"
          ]
        },
        {
          "output_type": "stream",
          "name": "stderr",
          "text": [
            "\r 45%|████▌     | 90/200 [00:37<00:32,  3.42it/s]"
          ]
        },
        {
          "output_type": "stream",
          "name": "stdout",
          "text": [
            "Epoch: 89\n",
            "Train Loss: 0.04425359718004863, Train Accuracy: 0.6186666666666667\n",
            "Validation Loss: 0.04561882249770626, Validation Accuracy: 0.6236559139784946\n",
            "epoch=90\n"
          ]
        },
        {
          "output_type": "stream",
          "name": "stderr",
          "text": [
            "\r 46%|████▌     | 91/200 [00:37<00:31,  3.43it/s]"
          ]
        },
        {
          "output_type": "stream",
          "name": "stdout",
          "text": [
            "Epoch: 90\n",
            "Train Loss: 0.04425689800580342, Train Accuracy: 0.6146666666666667\n",
            "Validation Loss: 0.04577259863576581, Validation Accuracy: 0.6236559139784946\n",
            "epoch=91\n"
          ]
        },
        {
          "output_type": "stream",
          "name": "stderr",
          "text": [
            "\r 46%|████▌     | 92/200 [00:38<00:31,  3.41it/s]"
          ]
        },
        {
          "output_type": "stream",
          "name": "stdout",
          "text": [
            "Epoch: 91\n",
            "Train Loss: 0.044127904335657754, Train Accuracy: 0.616\n",
            "Validation Loss: 0.04454600811004639, Validation Accuracy: 0.6236559139784946\n",
            "epoch=92\n"
          ]
        },
        {
          "output_type": "stream",
          "name": "stderr",
          "text": [
            "\r 46%|████▋     | 93/200 [00:38<00:31,  3.39it/s]"
          ]
        },
        {
          "output_type": "stream",
          "name": "stdout",
          "text": [
            "Epoch: 92\n",
            "Train Loss: 0.0443127969900767, Train Accuracy: 0.6173333333333333\n",
            "Validation Loss: 0.046800286539139285, Validation Accuracy: 0.6236559139784946\n",
            "epoch=93\n"
          ]
        },
        {
          "output_type": "stream",
          "name": "stderr",
          "text": [
            "\r 47%|████▋     | 94/200 [00:38<00:31,  3.40it/s]"
          ]
        },
        {
          "output_type": "stream",
          "name": "stdout",
          "text": [
            "Epoch: 93\n",
            "Train Loss: 0.04415558807055155, Train Accuracy: 0.608\n",
            "Validation Loss: 0.04550855005941083, Validation Accuracy: 0.6236559139784946\n",
            "epoch=94\n"
          ]
        },
        {
          "output_type": "stream",
          "name": "stderr",
          "text": [
            "\r 48%|████▊     | 95/200 [00:38<00:30,  3.43it/s]"
          ]
        },
        {
          "output_type": "stream",
          "name": "stdout",
          "text": [
            "Epoch: 94\n",
            "Train Loss: 0.044173487504323324, Train Accuracy: 0.6066666666666667\n",
            "Validation Loss: 0.044589308000379996, Validation Accuracy: 0.6236559139784946\n",
            "epoch=95\n"
          ]
        },
        {
          "output_type": "stream",
          "name": "stderr",
          "text": [
            "\r 48%|████▊     | 96/200 [00:39<00:30,  3.43it/s]"
          ]
        },
        {
          "output_type": "stream",
          "name": "stdout",
          "text": [
            "Epoch: 95\n",
            "Train Loss: 0.04418969432512919, Train Accuracy: 0.616\n",
            "Validation Loss: 0.04516080117994739, Validation Accuracy: 0.6021505376344086\n",
            "epoch=96\n"
          ]
        },
        {
          "output_type": "stream",
          "name": "stderr",
          "text": [
            "\r 48%|████▊     | 97/200 [00:39<00:29,  3.45it/s]"
          ]
        },
        {
          "output_type": "stream",
          "name": "stdout",
          "text": [
            "Epoch: 96\n",
            "Train Loss: 0.044236748298009235, Train Accuracy: 0.616\n",
            "Validation Loss: 0.04622768586681735, Validation Accuracy: 0.6129032258064516\n",
            "epoch=97\n"
          ]
        },
        {
          "output_type": "stream",
          "name": "stderr",
          "text": [
            "\r 49%|████▉     | 98/200 [00:39<00:29,  3.46it/s]"
          ]
        },
        {
          "output_type": "stream",
          "name": "stdout",
          "text": [
            "Epoch: 97\n",
            "Train Loss: 0.04420753757158915, Train Accuracy: 0.6146666666666667\n",
            "Validation Loss: 0.045047821537140875, Validation Accuracy: 0.6236559139784946\n",
            "epoch=98\n"
          ]
        },
        {
          "output_type": "stream",
          "name": "stderr",
          "text": [
            "\r 50%|████▉     | 99/200 [00:40<00:29,  3.48it/s]"
          ]
        },
        {
          "output_type": "stream",
          "name": "stdout",
          "text": [
            "Epoch: 98\n",
            "Train Loss: 0.044163342793782555, Train Accuracy: 0.612\n",
            "Validation Loss: 0.04431643793659826, Validation Accuracy: 0.6021505376344086\n",
            "epoch=99\n"
          ]
        },
        {
          "output_type": "stream",
          "name": "stderr",
          "text": [
            "\r 50%|█████     | 100/200 [00:40<00:28,  3.49it/s]"
          ]
        },
        {
          "output_type": "stream",
          "name": "stdout",
          "text": [
            "Epoch: 99\n",
            "Train Loss: 0.044110427141189575, Train Accuracy: 0.612\n",
            "Validation Loss: 0.04424837327772571, Validation Accuracy: 0.6236559139784946\n",
            "epoch=100\n"
          ]
        },
        {
          "output_type": "stream",
          "name": "stderr",
          "text": [
            "\r 50%|█████     | 101/200 [00:40<00:28,  3.52it/s]"
          ]
        },
        {
          "output_type": "stream",
          "name": "stdout",
          "text": [
            "Epoch: 100\n",
            "Train Loss: 0.04438578160603841, Train Accuracy: 0.6133333333333333\n",
            "Validation Loss: 0.04686562092073502, Validation Accuracy: 0.6129032258064516\n",
            "epoch=101\n"
          ]
        },
        {
          "output_type": "stream",
          "name": "stderr",
          "text": [
            "\r 51%|█████     | 102/200 [00:40<00:27,  3.52it/s]"
          ]
        },
        {
          "output_type": "stream",
          "name": "stdout",
          "text": [
            "Epoch: 101\n",
            "Train Loss: 0.04423166608810425, Train Accuracy: 0.608\n",
            "Validation Loss: 0.047279504037672476, Validation Accuracy: 0.6236559139784946\n",
            "epoch=102\n"
          ]
        },
        {
          "output_type": "stream",
          "name": "stderr",
          "text": [
            "\r 52%|█████▏    | 103/200 [00:41<00:27,  3.52it/s]"
          ]
        },
        {
          "output_type": "stream",
          "name": "stdout",
          "text": [
            "Epoch: 102\n",
            "Train Loss: 0.04435181967417399, Train Accuracy: 0.604\n",
            "Validation Loss: 0.04578848038950274, Validation Accuracy: 0.6236559139784946\n",
            "epoch=103\n"
          ]
        },
        {
          "output_type": "stream",
          "name": "stderr",
          "text": [
            "\r 52%|█████▏    | 104/200 [00:41<00:27,  3.54it/s]"
          ]
        },
        {
          "output_type": "stream",
          "name": "stdout",
          "text": [
            "Epoch: 103\n",
            "Train Loss: 0.04422106258074442, Train Accuracy: 0.612\n",
            "Validation Loss: 0.045730340865350536, Validation Accuracy: 0.6236559139784946\n",
            "epoch=104\n"
          ]
        },
        {
          "output_type": "stream",
          "name": "stderr",
          "text": [
            "\r 52%|█████▎    | 105/200 [00:41<00:26,  3.52it/s]"
          ]
        },
        {
          "output_type": "stream",
          "name": "stdout",
          "text": [
            "Epoch: 104\n",
            "Train Loss: 0.04432749565442403, Train Accuracy: 0.604\n",
            "Validation Loss: 0.04627453896307176, Validation Accuracy: 0.6129032258064516\n",
            "epoch=105\n"
          ]
        },
        {
          "output_type": "stream",
          "name": "stderr",
          "text": [
            "\r 53%|█████▎    | 106/200 [00:42<00:26,  3.52it/s]"
          ]
        },
        {
          "output_type": "stream",
          "name": "stdout",
          "text": [
            "Epoch: 105\n",
            "Train Loss: 0.04425232068697611, Train Accuracy: 0.616\n",
            "Validation Loss: 0.044807603282313195, Validation Accuracy: 0.6236559139784946\n",
            "epoch=106\n"
          ]
        },
        {
          "output_type": "stream",
          "name": "stderr",
          "text": [
            "\r 54%|█████▎    | 107/200 [00:42<00:26,  3.48it/s]"
          ]
        },
        {
          "output_type": "stream",
          "name": "stdout",
          "text": [
            "Epoch: 106\n",
            "Train Loss: 0.044195348262786864, Train Accuracy: 0.6106666666666667\n",
            "Validation Loss: 0.04604860275022445, Validation Accuracy: 0.6236559139784946\n",
            "epoch=107\n"
          ]
        },
        {
          "output_type": "stream",
          "name": "stderr",
          "text": [
            "\r 54%|█████▍    | 108/200 [00:42<00:26,  3.48it/s]"
          ]
        },
        {
          "output_type": "stream",
          "name": "stdout",
          "text": [
            "Epoch: 107\n",
            "Train Loss: 0.04426153834660848, Train Accuracy: 0.6186666666666667\n",
            "Validation Loss: 0.04491270742108745, Validation Accuracy: 0.6236559139784946\n",
            "epoch=108\n"
          ]
        },
        {
          "output_type": "stream",
          "name": "stderr",
          "text": [
            "\r 55%|█████▍    | 109/200 [00:42<00:26,  3.49it/s]"
          ]
        },
        {
          "output_type": "stream",
          "name": "stdout",
          "text": [
            "Epoch: 108\n",
            "Train Loss: 0.044281037330627444, Train Accuracy: 0.6133333333333333\n",
            "Validation Loss: 0.04467054336301742, Validation Accuracy: 0.6236559139784946\n",
            "epoch=109\n"
          ]
        },
        {
          "output_type": "stream",
          "name": "stderr",
          "text": [
            "\r 55%|█████▌    | 110/200 [00:43<00:25,  3.48it/s]"
          ]
        },
        {
          "output_type": "stream",
          "name": "stdout",
          "text": [
            "Epoch: 109\n",
            "Train Loss: 0.044290335257848104, Train Accuracy: 0.6093333333333333\n",
            "Validation Loss: 0.044061614621070125, Validation Accuracy: 0.6236559139784946\n",
            "epoch=110\n"
          ]
        },
        {
          "output_type": "stream",
          "name": "stderr",
          "text": [
            "\r 56%|█████▌    | 111/200 [00:43<00:25,  3.47it/s]"
          ]
        },
        {
          "output_type": "stream",
          "name": "stdout",
          "text": [
            "Epoch: 110\n",
            "Train Loss: 0.044106945037841794, Train Accuracy: 0.62\n",
            "Validation Loss: 0.045982814604236234, Validation Accuracy: 0.6236559139784946\n",
            "epoch=111\n"
          ]
        },
        {
          "output_type": "stream",
          "name": "stderr",
          "text": [
            "\r 56%|█████▌    | 112/200 [00:43<00:25,  3.44it/s]"
          ]
        },
        {
          "output_type": "stream",
          "name": "stdout",
          "text": [
            "Epoch: 111\n",
            "Train Loss: 0.0441836953163147, Train Accuracy: 0.6146666666666667\n",
            "Validation Loss: 0.04585224582302955, Validation Accuracy: 0.6236559139784946\n",
            "epoch=112\n"
          ]
        },
        {
          "output_type": "stream",
          "name": "stderr",
          "text": [
            "\r 56%|█████▋    | 113/200 [00:44<00:25,  3.46it/s]"
          ]
        },
        {
          "output_type": "stream",
          "name": "stdout",
          "text": [
            "Epoch: 112\n",
            "Train Loss: 0.044344106038411456, Train Accuracy: 0.6146666666666667\n",
            "Validation Loss: 0.048110869622999625, Validation Accuracy: 0.6236559139784946\n",
            "epoch=113\n"
          ]
        },
        {
          "output_type": "stream",
          "name": "stderr",
          "text": [
            "\r 57%|█████▋    | 114/200 [00:44<00:24,  3.45it/s]"
          ]
        },
        {
          "output_type": "stream",
          "name": "stdout",
          "text": [
            "Epoch: 113\n",
            "Train Loss: 0.04411999686559041, Train Accuracy: 0.616\n",
            "Validation Loss: 0.043957302647252235, Validation Accuracy: 0.6236559139784946\n",
            "epoch=114\n"
          ]
        },
        {
          "output_type": "stream",
          "name": "stderr",
          "text": [
            "\r 57%|█████▊    | 115/200 [00:44<00:24,  3.50it/s]"
          ]
        },
        {
          "output_type": "stream",
          "name": "stdout",
          "text": [
            "Epoch: 114\n",
            "Train Loss: 0.0441960236231486, Train Accuracy: 0.6133333333333333\n",
            "Validation Loss: 0.0452282351832236, Validation Accuracy: 0.6236559139784946\n",
            "epoch=115\n"
          ]
        },
        {
          "output_type": "stream",
          "name": "stderr",
          "text": [
            "\r 58%|█████▊    | 116/200 [00:44<00:23,  3.52it/s]"
          ]
        },
        {
          "output_type": "stream",
          "name": "stdout",
          "text": [
            "Epoch: 115\n",
            "Train Loss: 0.04426098012924194, Train Accuracy: 0.6013333333333334\n",
            "Validation Loss: 0.046895926998507594, Validation Accuracy: 0.6236559139784946\n",
            "epoch=116\n"
          ]
        },
        {
          "output_type": "stream",
          "name": "stderr",
          "text": [
            "\r 58%|█████▊    | 116/200 [00:45<00:32,  2.56it/s]\n"
          ]
        }
      ]
    },
    {
      "cell_type": "markdown",
      "source": [
        "## Testing"
      ],
      "metadata": {
        "id": "M_zJwOHo8DqQ"
      }
    },
    {
      "cell_type": "code",
      "source": [
        "num_correct_test = 0\n",
        "evalModel = Net(\n",
        "    TEXT.vocab.vectors,\n",
        "    nhead=n_heads,\n",
        "    dim_feedforward=50,\n",
        "    num_layers=num_layers,\n",
        "    dropout=0.0,\n",
        "    classifier_dropout=0.0,\n",
        ").to(device)\n",
        "evalModel.load_state_dict(torch.load(WEIGHTS_PATH))\n",
        "evalModel.eval()\n",
        "\n",
        "test_loss = 0\n",
        "test_correct = 0\n",
        "\n",
        "for idx, batch in enumerate(iter(test_iter)):\n",
        "  predictions = model(batch.sentence.to(device))\n",
        "  labels = F.one_hot(batch.label, num_classes=2).float().to(device)\n",
        "  test_loss = criterion(predictions, labels)\n",
        "\n",
        "  correct = (torch.argmax(predictions, dim=1) == torch.argmax(labels, dim=1))\n",
        "\n",
        "  test_correct += correct.sum()\n",
        "  test_loss += loss.item()\n",
        "\n",
        "  val_losses[epoch]   = test_loss/N_val\n",
        "  val_accuracy[epoch] = test_correct/N_val\n",
        "\n",
        "test_accuracy = test_correct / N_test\n",
        "\n",
        "show_performance_curves(training_losses,val_losses,training_accuracy,val_accuracy,test_accuracy,last_epoch)"
      ],
      "metadata": {
        "colab": {
          "base_uri": "https://localhost:8080/",
          "height": 770
        },
        "id": "Hv7VVoMCgkyR",
        "outputId": "21b60ae1-b10f-4f10-cfb5-a85c53315ef3"
      },
      "execution_count": 20,
      "outputs": [
        {
          "output_type": "display_data",
          "data": {
            "text/plain": [
              "<Figure size 500x300 with 1 Axes>"
            ],
            "image/png": "[encoded data removed]"
          },
          "metadata": {}
        },
        {
          "output_type": "stream",
          "name": "stdout",
          "text": [
            "Final Training Loss:   0.044128\n",
            "Final Validation Loss: 0.014984\n"
          ]
        },
        {
          "output_type": "display_data",
          "data": {
            "text/plain": [
              "<Figure size 500x300 with 1 Axes>"
            ],
            "image/png": "[encoded data removed]"
          },
          "metadata": {}
        },
        {
          "output_type": "stream",
          "name": "stdout",
          "text": [
            "Final Training Accuracy:   0.617333\n",
            "Final Validation Accuracy: 0.634409\n",
            "\n",
            "Test Accuracy: 0.6146\n",
            "\n"
          ]
        }
      ]
    }
  ]
}